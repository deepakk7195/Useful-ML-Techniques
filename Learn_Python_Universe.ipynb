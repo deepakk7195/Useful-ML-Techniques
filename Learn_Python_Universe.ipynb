{
 "cells": [
  {
   "cell_type": "code",
   "execution_count": 1,
   "id": "a817f24f",
   "metadata": {},
   "outputs": [],
   "source": [
    "import pandas as pd\n",
    "import numpy as np\n",
    "import warnings\n",
    "warnings.filterwarnings('ignore')\n",
    "import json\n",
    "pd.pandas.set_option('display.max_columns',None)\n",
    "import time\n",
    "from datetime import datetime\n",
    "import sympy as sym   # Solving Calculus, Limits, \n",
    "# import tnrange\n",
    "# import tqdm_notebook\n",
    "# import nb_black -> Automatic code formatter?"
   ]
  },
  {
   "cell_type": "markdown",
   "id": "94759d02",
   "metadata": {},
   "source": [
    "# BASICS "
   ]
  },
  {
   "cell_type": "markdown",
   "id": "eb82ed3b",
   "metadata": {},
   "source": [
    "# LIST"
   ]
  },
  {
   "cell_type": "markdown",
   "id": "c5a80ac6",
   "metadata": {},
   "source": [
    "### Popular methods - \n",
    "- append - Entire string is added\n",
    "- extend - String added charcter by character individually\n",
    "- insert - Given value at given index\n",
    "- pop - deleting a value\n",
    "- count(value) - Counts Occurances\n",
    "- sort() \n",
    "- c_lst = o_lst  copy by reference & c_lst = o_lst.copy()  copy by value\n",
    "- + => Concatenation -> [1,2,3] + [2],[1,2,3] + ['A','B']\n"
   ]
  },
  {
   "cell_type": "code",
   "execution_count": 2,
   "id": "97b671bd",
   "metadata": {},
   "outputs": [
    {
     "name": "stdout",
     "output_type": "stream",
     "text": [
      "6\n",
      "5\n",
      "4\n"
     ]
    }
   ],
   "source": [
    "nums = [2,3,4,5,6] # len = 5\n",
    "for i in range(len(nums)-1,1,-1):\n",
    "    print(nums[i])"
   ]
  },
  {
   "cell_type": "code",
   "execution_count": 3,
   "id": "d4f96598",
   "metadata": {},
   "outputs": [],
   "source": [
    "import numpy as np\n",
    "ar=np.array([1,0,0,1])\n",
    "arr2=np.array([1,0,0,0])\n",
    "arr3=np.array([0,0,0,0])"
   ]
  },
  {
   "cell_type": "code",
   "execution_count": 4,
   "id": "f594e6c8",
   "metadata": {},
   "outputs": [],
   "source": [
    "for i in range(0,3):\n",
    "    tl_vec=np.array([1,0,0,i])\n",
    "    if i==0:\n",
    "        tlmat = np.array([tl_vec])\n",
    "    else:\n",
    "        tlmat = np.vstack([tlmat,tl_vec])"
   ]
  },
  {
   "cell_type": "code",
   "execution_count": 5,
   "id": "f846d41e",
   "metadata": {},
   "outputs": [],
   "source": [
    "if len(tlmat)>0:\n",
    "    plmat = list(tlmat.sum(axis=0))"
   ]
  },
  {
   "cell_type": "code",
   "execution_count": 6,
   "id": "6d62ba4a",
   "metadata": {},
   "outputs": [],
   "source": [
    "tlmat,plmat\n",
    "PROL_RULES = [\"prolrule1\",\"prolrule2\",\"prolrule3\",\"prolrule4\"]"
   ]
  },
  {
   "cell_type": "code",
   "execution_count": 7,
   "id": "ca1b3ce4",
   "metadata": {},
   "outputs": [
    {
     "data": {
      "text/plain": [
       "{'prolrule1': 3, 'prolrule2': 0, 'prolrule3': 0, 'prolrule4': 3}"
      ]
     },
     "execution_count": 7,
     "metadata": {},
     "output_type": "execute_result"
    }
   ],
   "source": [
    "result = {PROL_RULES[i]:plmat[i] for i in range(len(PROL_RULES))}\n",
    "result"
   ]
  },
  {
   "cell_type": "code",
   "execution_count": 8,
   "id": "8b275515",
   "metadata": {},
   "outputs": [
    {
     "name": "stdout",
     "output_type": "stream",
     "text": [
      "0 5\n",
      "1 2\n",
      "2 3\n",
      "3 8\n",
      "4 6\n",
      "5 1\n",
      "6 0\n",
      "5\n",
      "2\n",
      "3\n",
      "8\n",
      "6\n",
      "1\n",
      "0\n",
      "9\n",
      "0 5\n",
      "1 2\n",
      "2 3\n",
      "3 8\n",
      "4 6\n",
      "5 1\n",
      "6 0\n",
      "7 9\n"
     ]
    }
   ],
   "source": [
    "# Range Funciton -\n",
    "a = [5,2,3,8,6,1,0,9] # size=8\n",
    "for i in range(len(a)-1): #range(3) generates 0,1,2\n",
    "    print(i,a[i])\n",
    "for i in a:\n",
    "    print(i)\n",
    "for i in range(0,len(a)):\n",
    "    print(i,a[i])"
   ]
  },
  {
   "cell_type": "code",
   "execution_count": 9,
   "id": "8c581417",
   "metadata": {},
   "outputs": [
    {
     "name": "stdout",
     "output_type": "stream",
     "text": [
      "val -  4\n",
      "val -  6\n",
      "val -  3\n",
      "val -  4\n",
      "val -  7\n",
      "val -  2\n",
      "val -  233\n",
      "val -  64\n",
      "val -  4\n",
      "val -  6\n",
      "val -  3\n",
      "val -  4\n",
      "val -  7\n",
      "val -  2\n",
      "val -  233\n",
      "val -  64\n",
      "index -  0\n",
      "index -  1\n",
      "index -  2\n",
      "index -  3\n",
      "index -  4\n",
      "index -  5\n",
      "index -  6\n",
      "index -  7\n",
      "idx-val -  0 4\n",
      "idx-val -  1 6\n",
      "idx-val -  2 3\n",
      "idx-val -  3 4\n",
      "idx-val -  4 7\n",
      "idx-val -  5 2\n",
      "idx-val -  6 233\n",
      "idx-val -  7 64\n",
      "range idx-val -  0 0\n",
      "range idx-val -  1 1\n",
      "range idx-val -  2 2\n",
      "range idx-val -  3 3\n",
      "range idx-val -  4 4\n",
      "range idx-val -  5 5\n",
      "range idx-val -  6 6\n",
      "range idx-val -  7 7\n"
     ]
    }
   ],
   "source": [
    "myarr = [4,6,3,4,7,2,233,64]\n",
    "for val in myarr: \n",
    "    print(\"val - \",val) # iterate by value\n",
    "for i in range(len(myarr)): \n",
    "    print(\"val - \",myarr[i]) # iterate by value  \n",
    "for i in range(len(myarr)): \n",
    "    print(\"index - \",i) # iterate by index \n",
    "for idx,val in enumerate(myarr): \n",
    "    print(\"idx-val - \",idx,val) # iterate by both\n",
    "for idx,val in enumerate(range(len(myarr))): \n",
    "    print(\"range idx-val - \",idx,val) # iterating by both but here val is also idx, thus non sense\n",
    "# for idx,val in enumerate(len(myarr)): \n",
    "#     print(\"idx-val - \",idx,val) # Wrong\n",
    "# for i in myarr[i]:\n",
    "#     print(i) # IndexError: list index out of range"
   ]
  },
  {
   "cell_type": "markdown",
   "id": "d763c50f",
   "metadata": {},
   "source": [
    "#### Generator Comprehension - Round brackets"
   ]
  },
  {
   "cell_type": "code",
   "execution_count": 10,
   "id": "a744feff",
   "metadata": {},
   "outputs": [
    {
     "name": "stdout",
     "output_type": "stream",
     "text": [
      "<generator object <genexpr> at 0x000001D339E640B0>\n"
     ]
    }
   ],
   "source": [
    "print((val for val in range(1, 20+1) if n % val == 0))"
   ]
  },
  {
   "cell_type": "markdown",
   "id": "5f376a36",
   "metadata": {},
   "source": [
    "#### List Comprehension - Square Brackets\n"
   ]
  },
  {
   "cell_type": "code",
   "execution_count": 13,
   "id": "57081141",
   "metadata": {},
   "outputs": [
    {
     "name": "stdout",
     "output_type": "stream",
     "text": [
      "[array([0., 0., 0., 0.])]\n"
     ]
    }
   ],
   "source": [
    "response = [1,2,3,4]\n",
    "plmat = list(np.zeros([1,len(response)]))\n",
    "print(plmat)"
   ]
  },
  {
   "cell_type": "code",
   "execution_count": null,
   "id": "67b2a54a",
   "metadata": {},
   "outputs": [],
   "source": [
    "lst = [i**2 for i in range(1,11)]\n",
    "['E' if e %2 == 0 else 'O' for e in lst]\n",
    "['P' if e > 0 else 'N' if e < 0 else 'Z' for e in lst]\n",
    "print([(i,j,i*j) for i in range(1,6)  for j in range(1,7)])"
   ]
  },
  {
   "cell_type": "markdown",
   "id": "e5c036b1",
   "metadata": {},
   "source": [
    "### Python Iterator & Generator - \n",
    "- generates a value (iterator object) on demand\n",
    "- genrators are slower than list comprehension\n",
    "- generators are memory efficient\n",
    "- when to use: whenever, you need to do manipulation on set of values and return the output as a single value\n",
    "- Iterable - An object that can be looped over, iterated over. Ex. List,set,tuples, dictionaries,strings. But, every iterable is not neccessarily be an iterator. But a list itself is not an iterator. Becomes after iter(), thus next() will work only after converting.\n",
    "- Iterator => Obj that can be iterated upon. They contain countable no of values.\n",
    "- Lazy Evaluation - Call by need\n",
    "- Iterator Protocol\n",
    "- next() - Built in function used to return next item in an iterator\n",
    "- iter() - Convert an iterable into iterator\n",
    "- yield() - when used in place of return in a def, it is a Generator"
   ]
  },
  {
   "cell_type": "markdown",
   "id": "2b380a29",
   "metadata": {},
   "source": [
    "### Numpy"
   ]
  },
  {
   "cell_type": "markdown",
   "id": "1472168b",
   "metadata": {},
   "source": [
    "Inbulit methods => np.mean(), np.max(), np.min(), np.std(), np.sum(), np.cumsum(), np.reshape(), np.median(), np.where(), np.mod(), np.argmax(), etc."
   ]
  },
  {
   "cell_type": "code",
   "execution_count": 15,
   "id": "3573dff6",
   "metadata": {},
   "outputs": [
    {
     "name": "stdout",
     "output_type": "stream",
     "text": [
      "1 2 3 4 5 6 7 8 9\n",
      "[[1 2 3]\n",
      " [4 5 6]\n",
      " [7 8 9]]\n"
     ]
    }
   ],
   "source": [
    "# Sample Input\n",
    "# 1 2 3 4 5 6 7 8 9\n",
    "# Sample Output\n",
    "# [ [ 1 2 3 ]\n",
    "# [ 4 5 6 ]\n",
    "# [ 7 8 9 ] ]\n",
    "import numpy\n",
    "def arrays(arr):\n",
    "    arr1 = numpy.array(arr, dtype = int)\n",
    "    arr2 = arr1.reshape(3, 3)\n",
    "    return arr2\n",
    "arr = input().strip().split(' ')\n",
    "result = arrays(arr)\n",
    "print(result)"
   ]
  },
  {
   "cell_type": "code",
   "execution_count": 17,
   "id": "493f3352",
   "metadata": {},
   "outputs": [
    {
     "name": "stdout",
     "output_type": "stream",
     "text": [
      "[1, 1, 2, 2, 3, 3]\n"
     ]
    }
   ],
   "source": [
    "lst = [1, 2, 3, 1, 2, 3]\n",
    "lst.sort()\n",
    "print(lst)"
   ]
  },
  {
   "cell_type": "code",
   "execution_count": 28,
   "id": "a9468641",
   "metadata": {},
   "outputs": [
    {
     "data": {
      "text/plain": [
       "[1, 2, 3, 4, 5, 6]"
      ]
     },
     "execution_count": 28,
     "metadata": {},
     "output_type": "execute_result"
    }
   ],
   "source": [
    "lst1 = [1, 2, 3]\n",
    "lst2 = [4,5,6]\n",
    "lst3=lst1+lst2\n",
    "lst3"
   ]
  },
  {
   "cell_type": "code",
   "execution_count": 26,
   "id": "e10df365",
   "metadata": {},
   "outputs": [
    {
     "data": {
      "text/plain": [
       "['my', 'name', 'is', 'deepak', 'khadke']"
      ]
     },
     "execution_count": 26,
     "metadata": {},
     "output_type": "execute_result"
    }
   ],
   "source": [
    "mystr = 'my name is deepak khadke'\n",
    "s = mystr.split()\n",
    "s"
   ]
  },
  {
   "cell_type": "code",
   "execution_count": 25,
   "id": "d63dc0ee",
   "metadata": {},
   "outputs": [
    {
     "data": {
      "text/plain": [
       "'2 3 4 6 3 2 7 8   e k d a h k   k a p e e d   s i   e m a n   y m'"
      ]
     },
     "execution_count": 25,
     "metadata": {},
     "output_type": "execute_result"
    }
   ],
   "source": [
    "aaa = 'my name is deepak khadke 87236432'\n",
    "bbb = ' '.join(aaa)\n",
    "bbb[::-1]"
   ]
  },
  {
   "cell_type": "code",
   "execution_count": 22,
   "id": "3f1944c0",
   "metadata": {},
   "outputs": [
    {
     "name": "stdout",
     "output_type": "stream",
     "text": [
      "Enter numbers: 1 2 3 4 5 6\n"
     ]
    },
    {
     "data": {
      "text/plain": [
       "21"
      ]
     },
     "execution_count": 22,
     "metadata": {},
     "output_type": "execute_result"
    }
   ],
   "source": [
    "sum([int(item) for item in input('Enter numbers: ').split(' ')])"
   ]
  },
  {
   "cell_type": "markdown",
   "id": "de57dc84",
   "metadata": {},
   "source": [
    "#### Array Problems - "
   ]
  },
  {
   "cell_type": "code",
   "execution_count": 30,
   "id": "2f0cb863",
   "metadata": {},
   "outputs": [],
   "source": [
    "# Find indes of 1st non repeating integer in the array\n",
    "# Can use dictionary to keep track of freq of each integer. Then iterate in array to find the 1st.\n",
    "\n",
    "def first_nonrepeating_int(arr):\n",
    "    freq_dict = {} # num & it's freq\n",
    "    \n",
    "    # Count freq of each integer\n",
    "    for index, num in enumerate(arr):\n",
    "        if num in freq_dict:\n",
    "            freq_dict[num]+=1\n",
    "        else:\n",
    "            freq_dict[num]=1\n",
    "    #Fetching the 1st - \n",
    "    for index, num in enumerate(arr):\n",
    "        if freq_dict[num]==1:\n",
    "            return index\n",
    "    return -1"
   ]
  },
  {
   "cell_type": "code",
   "execution_count": 31,
   "id": "69d57444",
   "metadata": {},
   "outputs": [
    {
     "data": {
      "text/plain": [
       "1"
      ]
     },
     "execution_count": 31,
     "metadata": {},
     "output_type": "execute_result"
    }
   ],
   "source": [
    "index = first_nonrepeating_int([1,2,3,4,5,5,1])\n",
    "index"
   ]
  },
  {
   "cell_type": "markdown",
   "id": "d09e6fa7",
   "metadata": {},
   "source": [
    "### Tuple, Dictionary"
   ]
  },
  {
   "cell_type": "raw",
   "id": "760501b9",
   "metadata": {},
   "source": [
    "§ Looping thro' = for kv in students.items(): ---------- Here tuple format. Key will be 1st element of the tuple and all values will be the 2nd element forming either a list or tuple again. Both elements will be separated by comma\n",
    "§  for k,v in students.items(): ------------------------------- Here no comma, Both Key Values appear in front of another\n",
    "§ Students.keys(), students.values(), students.items()\n"
   ]
  },
  {
   "cell_type": "code",
   "execution_count": null,
   "id": "104ddc11",
   "metadata": {},
   "outputs": [],
   "source": [
    "row_number = 1\n",
    "offer_data=pd.read_csv(\"D:\\PROL\\June23\\PROL_OFFERS_NEW\\output/prol_cibil_repsonse_bflp.txt\",\\\n",
    "                       sep = '~',encoding='iso-8859-1',nrows=row_number)\n",
    "offer_data"
   ]
  },
  {
   "cell_type": "code",
   "execution_count": 38,
   "id": "01fba080",
   "metadata": {},
   "outputs": [],
   "source": [
    "dictionary = {'Name': 'Tanu', 'Sex': 'Male', 'Age': 23, 'Height': 5.8, 'Occupation': 'Student'}"
   ]
  },
  {
   "cell_type": "code",
   "execution_count": 42,
   "id": "f6ed56f1",
   "metadata": {},
   "outputs": [
    {
     "name": "stdout",
     "output_type": "stream",
     "text": [
      "Name Tanu\n",
      "Sex Male\n",
      "Age 23\n",
      "Height 5.8\n",
      "Occupation Student\n"
     ]
    }
   ],
   "source": [
    "for i,j in dictionary.items():\n",
    "    print(i,j)"
   ]
  },
  {
   "cell_type": "code",
   "execution_count": 47,
   "id": "b956a09b",
   "metadata": {},
   "outputs": [
    {
     "data": {
      "text/plain": [
       "{'Age': 23,\n",
       " 'Height': 5.8,\n",
       " 'Name': 'Tanu',\n",
       " 'Occupation': 'Student',\n",
       " 'Sex': 'Male'}"
      ]
     },
     "execution_count": 47,
     "metadata": {},
     "output_type": "execute_result"
    }
   ],
   "source": [
    "# Sorting the dictionary - \n",
    "#By key - \n",
    "keys = list(dictionary.keys())\n",
    "keys.sort()\n",
    "sorted_dict = {i: dictionary[i] for i in keys}\n",
    "sorted_dict"
   ]
  },
  {
   "cell_type": "raw",
   "id": "19793aa6",
   "metadata": {},
   "source": [
    "# Merging 2- \n",
    "\n",
    "# Python code to merge dict using update() method\n",
    "1] def Merge(dict1, dict2):\n",
    "    return(dict2.update(dict1))\n",
    "2] res = {**dict1, **dict2}\n",
    "3] res = dict1 | dict2\n",
    "4] for i in dict2.keys():\n",
    "        dict1[i]=dict2[i]\n",
    "5] merged_dict = dict(dict1.items() | dict2.items())"
   ]
  },
  {
   "cell_type": "code",
   "execution_count": 48,
   "id": "e701033d",
   "metadata": {},
   "outputs": [],
   "source": [
    "test_dict = {\"Gfg\": [5, 7, 5, 4, 5],\n",
    "             \"is\": [6, 7, 4, 3, 3],\n",
    "             \"Best\": [9, 9, 6, 5, 5]}\n",
    " "
   ]
  },
  {
   "cell_type": "code",
   "execution_count": 49,
   "id": "543a519c",
   "metadata": {},
   "outputs": [],
   "source": [
    "# Maximum no of Unique values -\n",
    "unique_counts = [(key, len(set(values))) for key, values in test_dict.items()]"
   ]
  },
  {
   "cell_type": "code",
   "execution_count": 53,
   "id": "b686ef82",
   "metadata": {},
   "outputs": [
    {
     "data": {
      "text/plain": [
       "[('Gfg', 3), ('is', 4), ('Best', 3)]"
      ]
     },
     "execution_count": 53,
     "metadata": {},
     "output_type": "execute_result"
    }
   ],
   "source": [
    "unique_counts"
   ]
  },
  {
   "cell_type": "code",
   "execution_count": 54,
   "id": "5ab8d10c",
   "metadata": {},
   "outputs": [
    {
     "data": {
      "text/plain": [
       "'is'"
      ]
     },
     "execution_count": 54,
     "metadata": {},
     "output_type": "execute_result"
    }
   ],
   "source": [
    "max_key = max(unique_counts, key=lambda x: x[1])[0]\n",
    "max_key"
   ]
  },
  {
   "cell_type": "code",
   "execution_count": null,
   "id": "46a3b7ce",
   "metadata": {},
   "outputs": [],
   "source": []
  },
  {
   "cell_type": "code",
   "execution_count": null,
   "id": "189ad21c",
   "metadata": {},
   "outputs": [],
   "source": []
  },
  {
   "cell_type": "markdown",
   "id": "2c51ccf3",
   "metadata": {},
   "source": [
    "# Experian Dataset - "
   ]
  },
  {
   "cell_type": "code",
   "execution_count": null,
   "id": "dd0aaea3",
   "metadata": {},
   "outputs": [],
   "source": [
    "Experian_df = pd.read_csv(r'C:\\Users\\deepakkhadke\\OneDrive - Bajaj Finance Limited\\Desktop\\Experian\\input1.csv',\\\n",
    "     sep = \",\",encoding = 'ISO-8859-1',on_bad_lines='skip')"
   ]
  },
  {
   "cell_type": "markdown",
   "id": "cd7bf1d9",
   "metadata": {},
   "source": [
    "Experian_df['ID'],Experian_df.ID are Series....but\n",
    "Experian_df[['ID']] is a DATAFRAME object!"
   ]
  },
  {
   "cell_type": "raw",
   "id": "72645568",
   "metadata": {},
   "source": [
    "Group By -\n",
    "1] By default, 2 default variables having names = group_name & group_data.\n",
    "   PK -> group_name $ the corresponding data -> group_data.\n",
    "2] .groups gives you all PKs in group_name. The object is not series or df but ->         pandas.io.formats.printing.PrettyDicty. Now we know that unlike list, dictionary is not ordered, thus it is neither directly subscriptable or callable, thus [0] won't work.\n",
    "3] .keys() prints all PK as .groups becomes a Dictionary Object. What works is found below. \n",
    "4] Understand list[] and list(). () is calling the list method and [] is used for indexing,slicing,accessing elements. \n",
    "5] Group By object must be iterated to get the Keys & Values and convert into dictionary/dataframes. \n",
    "6] Group By will preserve the order in which observations are sorted within each group\n",
    "7] By default NA values are excluded from group keys during the groupby. Pass dropna=False to avoid.\n",
    "8] In the case of grouping by multiple keys, the group name will be a tuple:\n",
    "9] When you do Aggregation, keys of the groups appear in the index by default.\n",
    "10] "
   ]
  },
  {
   "cell_type": "code",
   "execution_count": null,
   "id": "78392ec7",
   "metadata": {},
   "outputs": [],
   "source": [
    "oo=Experian_df.groupby('ID') # Note we haven't done aggregation\n",
    "# To access 1st element -\n",
    "list(oo.groups.keys())[0]"
   ]
  },
  {
   "cell_type": "markdown",
   "id": "562f8de6",
   "metadata": {},
   "source": [
    "gb.<TAB>  # noqa: E225, E999\n",
    "gb.agg        gb.boxplot    gb.cummin     gb.describe   gb.filter     gb.get_group  gb.height     gb.last       gb.median     gb.ngroups    gb.plot       gb.rank       gb.std        gb.transform\n",
    "gb.aggregate  gb.count      gb.cumprod    gb.dtype      gb.first      gb.groups     gb.hist       gb.max        gb.min        gb.nth        gb.prod       gb.resample   gb.sum        gb.var\n",
    "gb.apply      gb.cummax     gb.cumsum     gb.fillna     gb.gender     gb.head       gb.indices    gb.mean       gb.name       gb.ohlc       gb.quantile   gb.size       gb.tail       gb.weight"
   ]
  },
  {
   "cell_type": "code",
   "execution_count": null,
   "id": "e9fcc070",
   "metadata": {},
   "outputs": [],
   "source": [
    "# 1st row of each group - \n",
    "first = oo.first()\n",
    "type(first) #pandas.core.frame.DataFrame, will have all columns.\n",
    "first.head(1)"
   ]
  },
  {
   "cell_type": "code",
   "execution_count": null,
   "id": "37581e90",
   "metadata": {},
   "outputs": [],
   "source": [
    "# Alt 1st element - \n",
    "first_group_name = list(oo.groups.keys())[0]\n",
    "first_group = oo.get_group(first_group_name)\n",
    "first_group"
   ]
  },
  {
   "cell_type": "markdown",
   "id": "45e8b28f",
   "metadata": {},
   "source": [
    "Getting a group by it's value - \n",
    "- grouped.get_group(value of the PK)"
   ]
  },
  {
   "cell_type": "code",
   "execution_count": null,
   "id": "e2c26106",
   "metadata": {},
   "outputs": [],
   "source": [
    "#Converting the object into dataframe\n",
    "grouped_df = Experian_df.groupby('ID', as_index=False).apply(pd.DataFrame)"
   ]
  },
  {
   "cell_type": "code",
   "execution_count": null,
   "id": "842bf216",
   "metadata": {},
   "outputs": [],
   "source": [
    "grouped_df.shape"
   ]
  },
  {
   "cell_type": "code",
   "execution_count": null,
   "id": "4b8aa22f",
   "metadata": {},
   "outputs": [],
   "source": [
    "# Convert GroupBy object to a dictionary\n",
    "group_dict = {}\n",
    "for group_name, group_data in oo:\n",
    "    group_dict[group_name] = group_data.to_dict(orient='list')"
   ]
  },
  {
   "cell_type": "code",
   "execution_count": null,
   "id": "4111a808",
   "metadata": {},
   "outputs": [],
   "source": [
    "# Into a list - \n",
    "group_list = [group_data for group_name, group_data in Experian_df.groupby('group_column')]"
   ]
  },
  {
   "cell_type": "code",
   "execution_count": null,
   "id": "828ea556",
   "metadata": {},
   "outputs": [],
   "source": [
    "type(oo.groups)"
   ]
  },
  {
   "cell_type": "markdown",
   "id": "1485ddc3",
   "metadata": {},
   "source": [
    "Inbuilt Methods - \n",
    "- any()\n",
    "- all()\n",
    "- count()\n",
    "- idxmax(),idxmin() - Index of the max & min value in each group\n",
    "- cov() - Covariance of the group\n",
    "- max(), mean(), median()\n",
    "- nunique() - No of Unique values\n",
    "- size() - Size of each group\n",
    "- Apply multiple functions at once -> grouped[[\"C\", \"D\"]].agg([\"sum\", \"mean\", \"std\"])"
   ]
  },
  {
   "cell_type": "markdown",
   "id": "1180cc43",
   "metadata": {},
   "source": [
    "pandas Index objects support duplicate values. If a non-unique index is used as the group key in a groupby operation, all values for the same index value will be considered to be in one group and thus the output of aggregation functions will only contain unique index values:"
   ]
  },
  {
   "cell_type": "code",
   "execution_count": null,
   "id": "bd506f7f",
   "metadata": {},
   "outputs": [],
   "source": [
    "lst = [1, 2, 3, 1, 2, 3]\n",
    "s = pd.Series([1, 2, 3, 10, 20, 30], lst) #lst assigned as index\n",
    "grouped = s.groupby(level=0)"
   ]
  },
  {
   "cell_type": "code",
   "execution_count": null,
   "id": "ee20151a",
   "metadata": {},
   "outputs": [],
   "source": [
    "grouped.first()"
   ]
  },
  {
   "cell_type": "code",
   "execution_count": null,
   "id": "c5372b30",
   "metadata": {},
   "outputs": [],
   "source": [
    "grouped.last()"
   ]
  },
  {
   "cell_type": "code",
   "execution_count": null,
   "id": "c65dd042",
   "metadata": {},
   "outputs": [],
   "source": [
    "grouped.sum()"
   ]
  },
  {
   "cell_type": "markdown",
   "id": "405d1f9d",
   "metadata": {},
   "source": [
    "#### DATAFRAME -"
   ]
  },
  {
   "cell_type": "code",
   "execution_count": 7,
   "id": "7d7cb092",
   "metadata": {},
   "outputs": [],
   "source": [
    "df = pd.DataFrame.from_dict(\n",
    "    {\n",
    "        'Name': ['Jane', 'Melissa', 'John', 'Matt','NaN'],\n",
    "        'Age': [23, 45, 35, 64,np.nan],\n",
    "        'Birth City': ['London', 'Paris', 'Toronto', 'Atlanta','NaN'],\n",
    "        'Gender': ['F', 'F', 'M', 'M','NaN']\n",
    "    }\n",
    ")"
   ]
  },
  {
   "cell_type": "code",
   "execution_count": 8,
   "id": "ccb1bd8f",
   "metadata": {},
   "outputs": [
    {
     "data": {
      "text/html": [
       "<div>\n",
       "<style scoped>\n",
       "    .dataframe tbody tr th:only-of-type {\n",
       "        vertical-align: middle;\n",
       "    }\n",
       "\n",
       "    .dataframe tbody tr th {\n",
       "        vertical-align: top;\n",
       "    }\n",
       "\n",
       "    .dataframe thead th {\n",
       "        text-align: right;\n",
       "    }\n",
       "</style>\n",
       "<table border=\"1\" class=\"dataframe\">\n",
       "  <thead>\n",
       "    <tr style=\"text-align: right;\">\n",
       "      <th></th>\n",
       "      <th>Name</th>\n",
       "      <th>Age</th>\n",
       "      <th>Birth City</th>\n",
       "      <th>Gender</th>\n",
       "    </tr>\n",
       "  </thead>\n",
       "  <tbody>\n",
       "    <tr>\n",
       "      <th>0</th>\n",
       "      <td>Jane</td>\n",
       "      <td>23.0</td>\n",
       "      <td>London</td>\n",
       "      <td>F</td>\n",
       "    </tr>\n",
       "    <tr>\n",
       "      <th>1</th>\n",
       "      <td>Melissa</td>\n",
       "      <td>45.0</td>\n",
       "      <td>Paris</td>\n",
       "      <td>F</td>\n",
       "    </tr>\n",
       "    <tr>\n",
       "      <th>2</th>\n",
       "      <td>John</td>\n",
       "      <td>35.0</td>\n",
       "      <td>Toronto</td>\n",
       "      <td>M</td>\n",
       "    </tr>\n",
       "    <tr>\n",
       "      <th>3</th>\n",
       "      <td>Matt</td>\n",
       "      <td>64.0</td>\n",
       "      <td>Atlanta</td>\n",
       "      <td>M</td>\n",
       "    </tr>\n",
       "    <tr>\n",
       "      <th>4</th>\n",
       "      <td>NaN</td>\n",
       "      <td>NaN</td>\n",
       "      <td>NaN</td>\n",
       "      <td>NaN</td>\n",
       "    </tr>\n",
       "  </tbody>\n",
       "</table>\n",
       "</div>"
      ],
      "text/plain": [
       "      Name   Age Birth City Gender\n",
       "0     Jane  23.0     London      F\n",
       "1  Melissa  45.0      Paris      F\n",
       "2     John  35.0    Toronto      M\n",
       "3     Matt  64.0    Atlanta      M\n",
       "4      NaN   NaN        NaN    NaN"
      ]
     },
     "execution_count": 8,
     "metadata": {},
     "output_type": "execute_result"
    }
   ],
   "source": [
    "df"
   ]
  },
  {
   "cell_type": "code",
   "execution_count": 9,
   "id": "8027c7b3",
   "metadata": {},
   "outputs": [
    {
     "data": {
      "text/html": [
       "<div>\n",
       "<style scoped>\n",
       "    .dataframe tbody tr th:only-of-type {\n",
       "        vertical-align: middle;\n",
       "    }\n",
       "\n",
       "    .dataframe tbody tr th {\n",
       "        vertical-align: top;\n",
       "    }\n",
       "\n",
       "    .dataframe thead th {\n",
       "        text-align: right;\n",
       "    }\n",
       "</style>\n",
       "<table border=\"1\" class=\"dataframe\">\n",
       "  <thead>\n",
       "    <tr style=\"text-align: right;\">\n",
       "      <th></th>\n",
       "      <th>Name</th>\n",
       "      <th>Age</th>\n",
       "      <th>Birth City</th>\n",
       "      <th>Gender</th>\n",
       "    </tr>\n",
       "  </thead>\n",
       "  <tbody>\n",
       "  </tbody>\n",
       "</table>\n",
       "</div>"
      ],
      "text/plain": [
       "Empty DataFrame\n",
       "Columns: [Name, Age, Birth City, Gender]\n",
       "Index: []"
      ]
     },
     "execution_count": 9,
     "metadata": {},
     "output_type": "execute_result"
    }
   ],
   "source": [
    "df[pd.isnull(df['Gender'])]"
   ]
  },
  {
   "cell_type": "code",
   "execution_count": null,
   "id": "314556a0",
   "metadata": {},
   "outputs": [],
   "source": []
  },
  {
   "cell_type": "code",
   "execution_count": null,
   "id": "df162365",
   "metadata": {},
   "outputs": [],
   "source": []
  },
  {
   "cell_type": "code",
   "execution_count": null,
   "id": "cdbb34ed",
   "metadata": {},
   "outputs": [],
   "source": []
  },
  {
   "cell_type": "code",
   "execution_count": null,
   "id": "bcaf6f54",
   "metadata": {},
   "outputs": [],
   "source": []
  },
  {
   "cell_type": "code",
   "execution_count": null,
   "id": "cd915184",
   "metadata": {},
   "outputs": [],
   "source": []
  },
  {
   "cell_type": "code",
   "execution_count": null,
   "id": "f0494381",
   "metadata": {},
   "outputs": [],
   "source": []
  },
  {
   "cell_type": "code",
   "execution_count": null,
   "id": "dd95d9b9",
   "metadata": {},
   "outputs": [],
   "source": []
  },
  {
   "cell_type": "code",
   "execution_count": null,
   "id": "6104f798",
   "metadata": {},
   "outputs": [],
   "source": []
  },
  {
   "cell_type": "markdown",
   "id": "6d5b4232",
   "metadata": {},
   "source": [
    "# Interview Questions - "
   ]
  },
  {
   "cell_type": "raw",
   "id": "6426eb78",
   "metadata": {},
   "source": [
    "Common elements in 2 lists - \n",
    "common_elements = list(set(list1) & set(list2))"
   ]
  },
  {
   "cell_type": "code",
   "execution_count": null,
   "id": "8bb5b8f9",
   "metadata": {},
   "outputs": [],
   "source": [
    "#Question 15: Rotate an array to the right by a given number of steps\n",
    "def rotate_array(arr, k):\n",
    "    n = len(arr) #5\n",
    "    k = k % n  \n",
    "    return arr[-k:] + arr[:-k]\n",
    "a = [1,2,3,4,5]\n",
    "b = rotate_array(a,1)\n",
    "b"
   ]
  },
  {
   "cell_type": "code",
   "execution_count": null,
   "id": "7b5ac498",
   "metadata": {},
   "outputs": [],
   "source": [
    "#Question 18: Implement a binary search algorithm\n",
    "def binary_search(arr, target):\n",
    "    left, right = 0 , len(arr) - 1\n",
    "    while left <= right:\n",
    "        mid = (left + right) // 2\n",
    "        if arr[mid] == target:\n",
    "            return mid\n",
    "        elif arr[mid] < target:\n",
    "            left = mid + 1\n",
    "        else:\n",
    "            right = mid - 1\n",
    "    return -1\n",
    "a = [1,2,3,4,5,6]\n",
    "binary_search(a,3)"
   ]
  },
  {
   "cell_type": "code",
   "execution_count": null,
   "id": "78776522",
   "metadata": {},
   "outputs": [],
   "source": [
    "#Question 19: Calculate the power of a number using recursion.\n",
    "def power(x, n):\n",
    "    if n == 0:\n",
    "        return 1\n",
    "    elif n % 2 == 0:\n",
    "        return power(x, n // 2) ** 2\n",
    "    else:\n",
    "        return x * power(x, n - 1)\n",
    "power(a,10)"
   ]
  },
  {
   "cell_type": "markdown",
   "id": "6cceeb66",
   "metadata": {},
   "source": [
    "### Sumit Mittal's DSA problems - "
   ]
  },
  {
   "cell_type": "code",
   "execution_count": null,
   "id": "9348d180",
   "metadata": {},
   "outputs": [],
   "source": []
  },
  {
   "cell_type": "code",
   "execution_count": null,
   "id": "85721534",
   "metadata": {},
   "outputs": [],
   "source": []
  },
  {
   "cell_type": "code",
   "execution_count": null,
   "id": "61427cc3",
   "metadata": {},
   "outputs": [],
   "source": []
  },
  {
   "cell_type": "markdown",
   "id": "5bb39e00",
   "metadata": {},
   "source": [
    "### Neetcode's Leetcode Problems - "
   ]
  },
  {
   "cell_type": "code",
   "execution_count": null,
   "id": "0deb2ee3",
   "metadata": {},
   "outputs": [],
   "source": [
    "# Self Product of an array w/o the respective positioned number - \n",
    "nums = [2,3,4,5,6]\n",
    "def productexceptself(nums):\n",
    "    res = [1]*(len(nums))\n",
    "    prefix=1\n",
    "    for i in range(len(nums)):\n",
    "        res[i]=prefix\n",
    "        prefix*=nums[i]\n",
    "    postfix=1\n",
    "    for i in range(len(nums)-1,-1,-1): #? \n",
    "        res[i]*=postfix\n",
    "        postfix*=nums[i]\n",
    "    return res\n",
    "prod = productexceptself(nums)\n",
    "prod"
   ]
  },
  {
   "cell_type": "code",
   "execution_count": null,
   "id": "806683ff",
   "metadata": {},
   "outputs": [],
   "source": [
    "nums = [1,2,3,4,5]\n",
    "res = [1]*(len(nums))\n",
    "res"
   ]
  },
  {
   "cell_type": "markdown",
   "id": "0b5105ba",
   "metadata": {},
   "source": [
    "#### Find continuos subarray(amin 1 number) having largest sum & return it"
   ]
  },
  {
   "cell_type": "markdown",
   "id": "9064b377",
   "metadata": {},
   "source": [
    "- Brute Force => just compute every single subarray from start to end. Repeat for every number following on. But time complexty very very high\n",
    "- Solution - \n",
    "- prev lesser value doesn't matter. Thus ignore. Calculate max sum upto a number where the number is decreasing the max sum value. Calculate such max values and return."
   ]
  },
  {
   "cell_type": "code",
   "execution_count": null,
   "id": "cca20a27",
   "metadata": {},
   "outputs": [],
   "source": [
    "nums = [2,3,4,5,6]\n",
    "def contiguoussubarray(nums):\n",
    "    maxsub = nums[0]\n",
    "    cursum = 0\n",
    "    for n in nums:\n",
    "        if cursum < 0:\n",
    "            cursum = 0\n",
    "        cursum+=n\n",
    "        maxsub=max(maxsub,cursum)\n",
    "    return maxsub          "
   ]
  },
  {
   "cell_type": "code",
   "execution_count": null,
   "id": "dde80212",
   "metadata": {},
   "outputs": [],
   "source": [
    "prod = contiguoussubarray(nums)\n",
    "prod"
   ]
  },
  {
   "cell_type": "markdown",
   "id": "60457744",
   "metadata": {},
   "source": [
    "### Maximum Product subarray - Dynamic Programming"
   ]
  },
  {
   "cell_type": "code",
   "execution_count": null,
   "id": "5674761f",
   "metadata": {},
   "outputs": [],
   "source": [
    "nums = [2,3,4,5,6,-6,-4,0,-4,5,6,-7,0,-5,-2,2]\n",
    "def contiguoussubarrayprod(nums):\n",
    "    res=max(nums) # coz when array has 0 Or -1, res becomes invalid.\n",
    "    currmin,currmax=1\n",
    "    for n in nums:\n",
    "        if n==0:\n",
    "            currmin,currmax=1\n",
    "            continue\n",
    "        tmp=n*currmax # to keep track of what currmax is and what currmin is\n",
    "        currmax = max(n*currmax,n*currmin,n)\n",
    "        currmin = min(tmp,n*currmin,n)\n",
    "        res=max(res,currmax)\n",
    "    return res"
   ]
  },
  {
   "cell_type": "code",
   "execution_count": null,
   "id": "54178d38",
   "metadata": {},
   "outputs": [],
   "source": [
    "prod = contiguoussubarrayprod(nums)\n",
    "prod"
   ]
  },
  {
   "cell_type": "code",
   "execution_count": null,
   "id": "ab539907",
   "metadata": {},
   "outputs": [],
   "source": [
    "arr = [1,2,3,4,5]\n",
    "for i in arr:\n",
    "    if i==2:\n",
    "        continue\n",
    "    print(i)"
   ]
  },
  {
   "cell_type": "code",
   "execution_count": null,
   "id": "e6edcd34",
   "metadata": {},
   "outputs": [],
   "source": [
    "def removeDuplicates(array):\n",
    "    size = len(array)\n",
    "    insertIndex = 1\n",
    "    for i in range(1, size):\n",
    "        if array[i - 1] != array[i]:\n",
    "            # Updating insertIndex in our main array\n",
    "            array[insertIndex] = array[i]\n",
    "            # Incrementing insertIndex count by 1\n",
    "            insertIndex = insertIndex + 1\n",
    "            print(array)\n",
    "    return insertIndex"
   ]
  },
  {
   "cell_type": "code",
   "execution_count": null,
   "id": "b79c3cea",
   "metadata": {},
   "outputs": [],
   "source": [
    "array_1 = [1,2,2,3,3,4]\n",
    "removeDuplicates(array_1)"
   ]
  },
  {
   "cell_type": "code",
   "execution_count": null,
   "id": "51049f11",
   "metadata": {},
   "outputs": [],
   "source": []
  },
  {
   "cell_type": "code",
   "execution_count": null,
   "id": "05733bcc",
   "metadata": {},
   "outputs": [],
   "source": [
    "#pythagorean -\n",
    "def hasPythagoreanTriplet(nums):\n",
    "    squared_nums = set([num * num for num in nums])  # Create a set of squared values\n",
    "    for i in range(len(nums)):\n",
    "        for j in range(i + 1, len(nums)):\n",
    "            # Calculate the sum of squares of two numbers\n",
    "            sum_of_squares = nums[i] * nums[i] + nums[j] * nums[j]\n",
    "            if sum_of_squares in squared_nums:\n",
    "                return True            \n",
    "    return False"
   ]
  },
  {
   "cell_type": "code",
   "execution_count": null,
   "id": "f0fc323a",
   "metadata": {},
   "outputs": [],
   "source": [
    "input_nums = [3, 5, 5, 6, 13, 9,12]\n",
    "result = hasPythagoreanTriplet(input_nums)\n",
    "print(result)  # Output: True"
   ]
  },
  {
   "cell_type": "code",
   "execution_count": null,
   "id": "2a1fc08b",
   "metadata": {},
   "outputs": [],
   "source": [
    "# Denominations & Amount - Dynamic Programming\n",
    "denominations = [1,2,5]\n",
    "amount = 5"
   ]
  },
  {
   "cell_type": "code",
   "execution_count": null,
   "id": "9a13a726",
   "metadata": {},
   "outputs": [],
   "source": [
    "solution = [0] * (amount + 1)\n",
    "solution[0] = 1\n",
    "for den in denominations:\n",
    "    for i in range(den, amount + 1): #1 to 6? -- 1-5\n",
    "        #print(i)\n",
    "        solution[i] += solution[i - den] \n",
    "        print(solution)\n",
    "print(solution[len(solution) - 1])"
   ]
  },
  {
   "cell_type": "code",
   "execution_count": null,
   "id": "0eff1c98",
   "metadata": {},
   "outputs": [],
   "source": [
    "# Missing element in a continuos array\n",
    "list1 = [1,5,6,3,4]\n",
    "def findmissing(list1):\n",
    "    currsum = sum(list1) #19\n",
    "    correctsum = ((len(list1)+1)*(len(list1)+2))/2\n",
    "    return correctsum-currsum\n",
    "findmissing(list1)"
   ]
  },
  {
   "cell_type": "code",
   "execution_count": null,
   "id": "9cf82613",
   "metadata": {},
   "outputs": [],
   "source": [
    "#Given an array arr[], find the maximum difference in consecutive values and their index - \n",
    "# myarr = [4,6,3,4,7,2,233,64,56,77,22,0,86,54]\n",
    "myarr = [5, 70, 40, 50, 12, 38, 98]\n",
    "lambai = len(myarr)\n",
    "maxdiff = 0\n",
    "for i in range(1,len(myarr)):\n",
    "#     maxdiff = max(maxdiff,myarr[i]-myarr[i-1]\n",
    "      if maxdiff < myarr[i]-myarr[i-1]:\n",
    "        maxdiff = myarr[i]-myarr[i-1]\n",
    "        jmax = i\n",
    "        imax = i-1\n",
    "print(\"Maxdiff - \",maxdiff) \n",
    "print(\"Max j - \",jmax)\n",
    "print(\"Max i - \",imax)   "
   ]
  },
  {
   "cell_type": "code",
   "execution_count": null,
   "id": "f0a73b7c",
   "metadata": {},
   "outputs": [],
   "source": [
    "# Maximum difference max(j – i) such that arr[j] > arr[i]-  \n",
    "myarr = [4,6,3,4,7,2,233,64,56,77,22,0,86] \n",
    "\n",
    "n = len(myarr) # 13\n",
    "left_min = [0] * n\n",
    "left_min[0] = myarr[0]\n",
    "for i in range(1, n):\n",
    "    left_min[i] = min(left_min[i - 1], myarr[i])\n",
    "\n",
    "right_max = [0]*n\n",
    "right_max[n-1] = myarr[n-1]\n",
    "for i in range(n-2,-1,-1):\n",
    "    right_max[i] = max(right_max[i+1],myarr[i])\n",
    "\n",
    "i, j, max_diff = 0, 0, -1\n",
    "while i < n and j < n:\n",
    "    if left_min[i] < right_max[j]:\n",
    "        max_diff = max(max_diff, j - i)\n",
    "        j += 1\n",
    "    else:\n",
    "        i += 1\n",
    "print(i,j,max_diff)"
   ]
  },
  {
   "cell_type": "code",
   "execution_count": null,
   "id": "274779ef",
   "metadata": {},
   "outputs": [],
   "source": [
    "def max_index_diff(array):\n",
    "    n = len(array)\n",
    "    max_diff = 0# why -1 here?\n",
    "    for i in range(0, n):\n",
    "        j = n - 1\n",
    "        while(j > i):\n",
    "            if array[j] > array[i] and max_diff < (j - i):\n",
    "                max_diff = j - i\n",
    "            j -= 1\n",
    "\n",
    "    return max_diff"
   ]
  },
  {
   "cell_type": "code",
   "execution_count": null,
   "id": "5a2e5c14",
   "metadata": {},
   "outputs": [],
   "source": [
    "max_distance(myarr)"
   ]
  },
  {
   "cell_type": "code",
   "execution_count": null,
   "id": "b9c92f0f",
   "metadata": {},
   "outputs": [],
   "source": [
    "myarr = [4,6,3,4,7,2,233,64,56,77,22,0,86] \n",
    "myarr1 = myarr.sort\n",
    "myarr1"
   ]
  },
  {
   "cell_type": "code",
   "execution_count": null,
   "id": "0d52ea76",
   "metadata": {},
   "outputs": [],
   "source": []
  }
 ],
 "metadata": {
  "kernelspec": {
   "display_name": "Python 3 (ipykernel)",
   "language": "python",
   "name": "python3"
  },
  "language_info": {
   "codemirror_mode": {
    "name": "ipython",
    "version": 3
   },
   "file_extension": ".py",
   "mimetype": "text/x-python",
   "name": "python",
   "nbconvert_exporter": "python",
   "pygments_lexer": "ipython3",
   "version": "3.9.13"
  }
 },
 "nbformat": 4,
 "nbformat_minor": 5
}
